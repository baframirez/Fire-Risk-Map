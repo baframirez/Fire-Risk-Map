{
 "cells": [
  {
   "cell_type": "code",
   "execution_count": 1,
   "id": "8814c3fd-f916-46cd-bb9f-a64338f00d1c",
   "metadata": {},
   "outputs": [],
   "source": [
    "import ee\n",
    "import folium\n",
    "from datetime import datetime, timedelta"
   ]
  },
  {
   "cell_type": "code",
   "execution_count": 2,
   "id": "e8335ebd-f83c-4941-b198-7d77fd8a7dca",
   "metadata": {},
   "outputs": [
    {
     "name": "stderr",
     "output_type": "stream",
     "text": [
      "*** Earth Engine *** Share your feedback by taking our Annual Developer Satisfaction Survey: https://google.qualtrics.com/jfe/form/SV_0JLhFqfSY1uiEaW?source=Init\n"
     ]
    }
   ],
   "source": [
    "# Initialize Earth Engine\n",
    "ee.Initialize()"
   ]
  },
  {
   "cell_type": "code",
   "execution_count": 3,
   "id": "ab1b9c27-e116-44a7-a166-6f568b66bd2b",
   "metadata": {},
   "outputs": [],
   "source": [
    "#Define the indexes (Normalized Difference)\n",
    "# Define the NBR function\n",
    "def NBR(image):\n",
    "    return image.expression('float(b(\"B8\") - b(\"B12\")) / float(b(\"B8\") + b(\"B12\"))')\n",
    "\n",
    "# Define the NDMI function\n",
    "def NDMI(image):\n",
    "    return image.expression('float(b(\"B8\") - b(\"B11\")) / float(b(\"B8\") + b(\"B11\"))')"
   ]
  },
  {
   "cell_type": "code",
   "execution_count": 4,
   "id": "f65a9572-f38b-42e4-b6a2-536a23454aec",
   "metadata": {},
   "outputs": [],
   "source": [
    "# Visualization parameters for layers\n",
    "#vis_p = {'min': 0, 'max': 1, 'palette': ['green', 'yellow', 'orange', 'red']}\n",
    "vis_p = {'min': 0, 'max': 1, 'palette': ['00FF00', 'FFFF00', 'FF9900', 'FF0000']}\n",
    "layer_vis = {\n",
    "    'nbr': vis_p,\n",
    "    'ndmi': vis_p,\n",
    "    'fire_risk': vis_p\n",
    "}"
   ]
  },
  {
   "cell_type": "code",
   "execution_count": 5,
   "id": "fee00089-6e12-4e2c-9e2f-2bb701ffe7bd",
   "metadata": {},
   "outputs": [],
   "source": [
    "# Calculate the last week's date range\n",
    "today = datetime.today()\n",
    "end_date = today.strftime('%Y-%m-%d')\n",
    "start_date = (today - timedelta(days=7)).strftime('%Y-%m-%d')\n",
    "\n",
    "\n",
    "# Define the region of interest (ROI)\n",
    "lat = -19.307916656027874\n",
    "lon = -59.116664414196585\n",
    "#roi = ee.Geometry.Rectangle([lon - 0.3, lat - 0.3, lon + 0.3, lat + 0.3]) \n",
    "\n",
    "# Load Sentinel-2 collection and filter by date and ROI\n",
    "collection = ee.ImageCollection('COPERNICUS/S2_SR_HARMONIZED') \\\n",
    "    .filterDate(start_date, end_date) \\\n",
    "    .select(['B8', 'B11', 'B12'])  # Bands for NBR and NDMI\n",
    "    #.filterBounds(roi) \\"
   ]
  },
  {
   "cell_type": "code",
   "execution_count": 6,
   "id": "9af045d9-25de-4026-89e5-0c8f28d17f42",
   "metadata": {},
   "outputs": [],
   "source": [
    "# Calculate the mean NBR and NDMI\n",
    "nbr_mean = collection.map(NBR).mean()\n",
    "ndmi_mean = collection.map(NDMI).mean()"
   ]
  },
  {
   "cell_type": "code",
   "execution_count": 7,
   "id": "ce0bafe8-847e-4133-87fa-c06cd45b4ec0",
   "metadata": {},
   "outputs": [],
   "source": [
    "# Combine layers to create a fire risk map\n",
    "fire_risk = nbr_mean.multiply(0.7).add(ndmi_mean.multiply(0.3))\n",
    "#.clip(roi)\n",
    "\n",
    "# Create a Folium map\n",
    "m = folium.Map(location=[lat, lon], zoom_start=11)"
   ]
  },
  {
   "cell_type": "code",
   "execution_count": 8,
   "id": "d14a4825-7da6-497e-b2f0-08cf8502febc",
   "metadata": {},
   "outputs": [
    {
     "data": {
      "text/html": [
       "<div style=\"width:100%;\"><div style=\"position:relative;width:100%;height:0;padding-bottom:60%;\"><span style=\"color:#565656\">Make this Notebook Trusted to load map: File -> Trust Notebook</span><iframe srcdoc=\"&lt;!DOCTYPE html&gt;\n",
       "&lt;html&gt;\n",
       "&lt;head&gt;\n",
       "    \n",
       "    &lt;meta http-equiv=&quot;content-type&quot; content=&quot;text/html; charset=UTF-8&quot; /&gt;\n",
       "    \n",
       "        &lt;script&gt;\n",
       "            L_NO_TOUCH = false;\n",
       "            L_DISABLE_3D = false;\n",
       "        &lt;/script&gt;\n",
       "    \n",
       "    &lt;style&gt;html, body {width: 100%;height: 100%;margin: 0;padding: 0;}&lt;/style&gt;\n",
       "    &lt;style&gt;#map {position:absolute;top:0;bottom:0;right:0;left:0;}&lt;/style&gt;\n",
       "    &lt;script src=&quot;https://cdn.jsdelivr.net/npm/leaflet@1.9.3/dist/leaflet.js&quot;&gt;&lt;/script&gt;\n",
       "    &lt;script src=&quot;https://code.jquery.com/jquery-3.7.1.min.js&quot;&gt;&lt;/script&gt;\n",
       "    &lt;script src=&quot;https://cdn.jsdelivr.net/npm/bootstrap@5.2.2/dist/js/bootstrap.bundle.min.js&quot;&gt;&lt;/script&gt;\n",
       "    &lt;script src=&quot;https://cdnjs.cloudflare.com/ajax/libs/Leaflet.awesome-markers/2.0.2/leaflet.awesome-markers.js&quot;&gt;&lt;/script&gt;\n",
       "    &lt;link rel=&quot;stylesheet&quot; href=&quot;https://cdn.jsdelivr.net/npm/leaflet@1.9.3/dist/leaflet.css&quot;/&gt;\n",
       "    &lt;link rel=&quot;stylesheet&quot; href=&quot;https://cdn.jsdelivr.net/npm/bootstrap@5.2.2/dist/css/bootstrap.min.css&quot;/&gt;\n",
       "    &lt;link rel=&quot;stylesheet&quot; href=&quot;https://netdna.bootstrapcdn.com/bootstrap/3.0.0/css/bootstrap-glyphicons.css&quot;/&gt;\n",
       "    &lt;link rel=&quot;stylesheet&quot; href=&quot;https://cdn.jsdelivr.net/npm/@fortawesome/fontawesome-free@6.2.0/css/all.min.css&quot;/&gt;\n",
       "    &lt;link rel=&quot;stylesheet&quot; href=&quot;https://cdnjs.cloudflare.com/ajax/libs/Leaflet.awesome-markers/2.0.2/leaflet.awesome-markers.css&quot;/&gt;\n",
       "    &lt;link rel=&quot;stylesheet&quot; href=&quot;https://cdn.jsdelivr.net/gh/python-visualization/folium/folium/templates/leaflet.awesome.rotate.min.css&quot;/&gt;\n",
       "    \n",
       "            &lt;meta name=&quot;viewport&quot; content=&quot;width=device-width,\n",
       "                initial-scale=1.0, maximum-scale=1.0, user-scalable=no&quot; /&gt;\n",
       "            &lt;style&gt;\n",
       "                #map_c3f16b78b0596501c07f2da0889085dc {\n",
       "                    position: relative;\n",
       "                    width: 100.0%;\n",
       "                    height: 100.0%;\n",
       "                    left: 0.0%;\n",
       "                    top: 0.0%;\n",
       "                }\n",
       "                .leaflet-container { font-size: 1rem; }\n",
       "            &lt;/style&gt;\n",
       "        \n",
       "&lt;/head&gt;\n",
       "&lt;body&gt;\n",
       "    \n",
       "    \n",
       "            &lt;div class=&quot;folium-map&quot; id=&quot;map_c3f16b78b0596501c07f2da0889085dc&quot; &gt;&lt;/div&gt;\n",
       "        \n",
       "&lt;/body&gt;\n",
       "&lt;script&gt;\n",
       "    \n",
       "    \n",
       "            var map_c3f16b78b0596501c07f2da0889085dc = L.map(\n",
       "                &quot;map_c3f16b78b0596501c07f2da0889085dc&quot;,\n",
       "                {\n",
       "                    center: [-19.307916656027874, -59.116664414196585],\n",
       "                    crs: L.CRS.EPSG3857,\n",
       "                    zoom: 11,\n",
       "                    zoomControl: true,\n",
       "                    preferCanvas: false,\n",
       "                }\n",
       "            );\n",
       "\n",
       "            \n",
       "\n",
       "        \n",
       "    \n",
       "            var tile_layer_d70c9cce2f28f7a08a37e3e425cbf8db = L.tileLayer(\n",
       "                &quot;https://tile.openstreetmap.org/{z}/{x}/{y}.png&quot;,\n",
       "                {&quot;attribution&quot;: &quot;\\u0026copy; \\u003ca href=\\&quot;https://www.openstreetmap.org/copyright\\&quot;\\u003eOpenStreetMap\\u003c/a\\u003e contributors&quot;, &quot;detectRetina&quot;: false, &quot;maxNativeZoom&quot;: 19, &quot;maxZoom&quot;: 19, &quot;minZoom&quot;: 0, &quot;noWrap&quot;: false, &quot;opacity&quot;: 1, &quot;subdomains&quot;: &quot;abc&quot;, &quot;tms&quot;: false}\n",
       "            );\n",
       "        \n",
       "    \n",
       "            tile_layer_d70c9cce2f28f7a08a37e3e425cbf8db.addTo(map_c3f16b78b0596501c07f2da0889085dc);\n",
       "        \n",
       "    \n",
       "            var tile_layer_c23dfba18b16a54459e9af0fa41ae99e = L.tileLayer(\n",
       "                &quot;https://earthengine.googleapis.com/v1/projects/36282234389/maps/51c819414b70cc95bbffcf712a4d88a5-119b8a61ad5c40c08763faf089dd26e6/tiles/{z}/{x}/{y}&quot;,\n",
       "                {&quot;attribution&quot;: &quot;Map Data \\u0026copy; \\u003ca href=\\u0027https://earthengine.google.com\\u0027\\u003eGoogle Earth Engine\\u003c/a\\u003e&quot;, &quot;detectRetina&quot;: false, &quot;maxZoom&quot;: 18, &quot;minZoom&quot;: 0, &quot;noWrap&quot;: false, &quot;opacity&quot;: 1, &quot;subdomains&quot;: &quot;abc&quot;, &quot;tms&quot;: false}\n",
       "            );\n",
       "        \n",
       "    \n",
       "            tile_layer_c23dfba18b16a54459e9af0fa41ae99e.addTo(map_c3f16b78b0596501c07f2da0889085dc);\n",
       "        \n",
       "    \n",
       "            var tile_layer_6514e27e322e8d9e8334b09d24f69e19 = L.tileLayer(\n",
       "                &quot;https://earthengine.googleapis.com/v1/projects/36282234389/maps/8b0b88a819273b4cd9c83764b2ca0259-4bd592d709e8efdb69093ea02bef8884/tiles/{z}/{x}/{y}&quot;,\n",
       "                {&quot;attribution&quot;: &quot;Map Data \\u0026copy; \\u003ca href=\\u0027https://earthengine.google.com\\u0027\\u003eGoogle Earth Engine\\u003c/a\\u003e&quot;, &quot;detectRetina&quot;: false, &quot;maxZoom&quot;: 18, &quot;minZoom&quot;: 0, &quot;noWrap&quot;: false, &quot;opacity&quot;: 1, &quot;subdomains&quot;: &quot;abc&quot;, &quot;tms&quot;: false}\n",
       "            );\n",
       "        \n",
       "    \n",
       "            tile_layer_6514e27e322e8d9e8334b09d24f69e19.addTo(map_c3f16b78b0596501c07f2da0889085dc);\n",
       "        \n",
       "    \n",
       "            var tile_layer_5fb1354ddc0dce35cfd0c46ac39ec9b4 = L.tileLayer(\n",
       "                &quot;https://earthengine.googleapis.com/v1/projects/36282234389/maps/9e2ccb08de53f575036e315b24f107f9-dcedf9c0859e32c12be7469ab4172b88/tiles/{z}/{x}/{y}&quot;,\n",
       "                {&quot;attribution&quot;: &quot;Map Data \\u0026copy; \\u003ca href=\\u0027https://earthengine.google.com\\u0027\\u003eGoogle Earth Engine\\u003c/a\\u003e&quot;, &quot;detectRetina&quot;: false, &quot;maxZoom&quot;: 18, &quot;minZoom&quot;: 0, &quot;noWrap&quot;: false, &quot;opacity&quot;: 1, &quot;subdomains&quot;: &quot;abc&quot;, &quot;tms&quot;: false}\n",
       "            );\n",
       "        \n",
       "    \n",
       "            tile_layer_5fb1354ddc0dce35cfd0c46ac39ec9b4.addTo(map_c3f16b78b0596501c07f2da0889085dc);\n",
       "        \n",
       "    \n",
       "            var layer_control_730e6c053279d493b70b4bbf642e11d0_layers = {\n",
       "                base_layers : {\n",
       "                    &quot;openstreetmap&quot; : tile_layer_d70c9cce2f28f7a08a37e3e425cbf8db,\n",
       "                },\n",
       "                overlays :  {\n",
       "                    &quot;NBR&quot; : tile_layer_c23dfba18b16a54459e9af0fa41ae99e,\n",
       "                    &quot;NDMI&quot; : tile_layer_6514e27e322e8d9e8334b09d24f69e19,\n",
       "                    &quot;Fire Risk&quot; : tile_layer_5fb1354ddc0dce35cfd0c46ac39ec9b4,\n",
       "                },\n",
       "            };\n",
       "            let layer_control_730e6c053279d493b70b4bbf642e11d0 = L.control.layers(\n",
       "                layer_control_730e6c053279d493b70b4bbf642e11d0_layers.base_layers,\n",
       "                layer_control_730e6c053279d493b70b4bbf642e11d0_layers.overlays,\n",
       "                {&quot;autoZIndex&quot;: true, &quot;collapsed&quot;: true, &quot;position&quot;: &quot;topright&quot;}\n",
       "            ).addTo(map_c3f16b78b0596501c07f2da0889085dc);\n",
       "\n",
       "        \n",
       "&lt;/script&gt;\n",
       "&lt;/html&gt;\" style=\"position:absolute;width:100%;height:100%;left:0;top:0;border:none !important;\" allowfullscreen webkitallowfullscreen mozallowfullscreen></iframe></div></div>"
      ],
      "text/plain": [
       "<folium.folium.Map at 0x1ac2e123a90>"
      ]
     },
     "execution_count": 8,
     "metadata": {},
     "output_type": "execute_result"
    }
   ],
   "source": [
    "#Displaying layers\n",
    "\n",
    "# Add NBR layer\n",
    "nbr_map = nbr_mean.getMapId(layer_vis['nbr'])\n",
    "folium.raster_layers.TileLayer(\n",
    "    tiles=nbr_map['tile_fetcher'].url_format,\n",
    "    attr=\"Map Data &copy; <a href='https://earthengine.google.com'>Google Earth Engine</a>\",\n",
    "    name=\"NBR\",\n",
    "    overlay=True\n",
    ").add_to(m)\n",
    "\n",
    "# Add NDMI layer\n",
    "ndmi_map = ndmi_mean.getMapId(layer_vis['ndmi'])\n",
    "folium.raster_layers.TileLayer(\n",
    "    tiles=ndmi_map['tile_fetcher'].url_format,\n",
    "    attr=\"Map Data &copy; <a href='https://earthengine.google.com'>Google Earth Engine</a>\",\n",
    "    name=\"NDMI\",\n",
    "    overlay=True\n",
    ").add_to(m)\n",
    "\n",
    "# Add Fire Risk layer\n",
    "fire_risk_map = fire_risk.getMapId(layer_vis['fire_risk'])\n",
    "folium.raster_layers.TileLayer(\n",
    "    tiles=fire_risk_map['tile_fetcher'].url_format,\n",
    "    attr=\"Map Data &copy; <a href='https://earthengine.google.com'>Google Earth Engine</a>\",\n",
    "    name=\"Fire Risk\",\n",
    "    overlay=True\n",
    ").add_to(m)\n",
    "\n",
    "\n",
    "# Add layer control\n",
    "folium.LayerControl().add_to(m)\n",
    "\n",
    "# Display map\n",
    "m"
   ]
  },
  {
   "cell_type": "code",
   "execution_count": 11,
   "id": "9f52317e-1147-497f-a45c-ea99d48551c1",
   "metadata": {},
   "outputs": [
    {
     "name": "stdout",
     "output_type": "stream",
     "text": [
      "Fire Risk Map saved as fire_risk_map(10-17nov).html\n"
     ]
    }
   ],
   "source": [
    "# Save the map to an HTML file\n",
    "name=\"fire_risk_map(10-17nov).html\"\n",
    "m.save(name)\n",
    "print(\"Fire Risk Map saved as\", name)"
   ]
  },
  {
   "cell_type": "code",
   "execution_count": null,
   "id": "f4867d28-a9f2-4f2f-9fb9-acc6b1d2f8a0",
   "metadata": {},
   "outputs": [],
   "source": []
  }
 ],
 "metadata": {
  "kernelspec": {
   "display_name": "Python 3 (ipykernel)",
   "language": "python",
   "name": "python3"
  },
  "language_info": {
   "codemirror_mode": {
    "name": "ipython",
    "version": 3
   },
   "file_extension": ".py",
   "mimetype": "text/x-python",
   "name": "python",
   "nbconvert_exporter": "python",
   "pygments_lexer": "ipython3",
   "version": "3.11.3"
  }
 },
 "nbformat": 4,
 "nbformat_minor": 5
}
